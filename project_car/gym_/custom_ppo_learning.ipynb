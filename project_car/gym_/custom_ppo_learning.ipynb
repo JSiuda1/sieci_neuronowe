{
 "cells": [
  {
   "cell_type": "code",
   "execution_count": 1,
   "metadata": {},
   "outputs": [
    {
     "name": "stdout",
     "output_type": "stream",
     "text": [
      "pygame 2.3.0 (SDL 2.24.2, Python 3.10.6)\n",
      "Hello from the pygame community. https://www.pygame.org/contribute.html\n"
     ]
    },
    {
     "name": "stderr",
     "output_type": "stream",
     "text": [
      "2023-06-05 01:12:46.831673: I tensorflow/tsl/cuda/cudart_stub.cc:28] Could not find cuda drivers on your machine, GPU will not be used.\n",
      "2023-06-05 01:12:46.888060: I tensorflow/tsl/cuda/cudart_stub.cc:28] Could not find cuda drivers on your machine, GPU will not be used.\n",
      "2023-06-05 01:12:46.889137: I tensorflow/core/platform/cpu_feature_guard.cc:182] This TensorFlow binary is optimized to use available CPU instructions in performance-critical operations.\n",
      "To enable the following instructions: AVX2 FMA, in other operations, rebuild TensorFlow with the appropriate compiler flags.\n",
      "2023-06-05 01:12:48.223498: W tensorflow/compiler/tf2tensorrt/utils/py_utils.cc:38] TF-TRT Warning: Could not find TensorRT\n"
     ]
    }
   ],
   "source": [
    "from racing_car_env import RacingCarEnv\n",
    "from ppo import PPO"
   ]
  },
  {
   "cell_type": "code",
   "execution_count": 2,
   "metadata": {},
   "outputs": [
    {
     "name": "stderr",
     "output_type": "stream",
     "text": [
      "/home/kuba/.local/lib/python3.10/site-packages/gym/spaces/box.py:73: UserWarning: \u001b[33mWARN: Box bound precision lowered by casting to float32\u001b[0m\n",
      "  logger.warn(\n"
     ]
    }
   ],
   "source": [
    "env = RacingCarEnv()"
   ]
  },
  {
   "cell_type": "code",
   "execution_count": 3,
   "metadata": {},
   "outputs": [],
   "source": [
    "ppo = PPO(env)"
   ]
  },
  {
   "cell_type": "code",
   "execution_count": 4,
   "metadata": {},
   "outputs": [
    {
     "name": "stdout",
     "output_type": "stream",
     "text": [
      " Epoch: 0. Mean Return: 254.16438749999992. Mean Length: 25.0\n",
      " Epoch: 1. Mean Return: 339.0138. Mean Length: 33.333333333333336\n",
      " Epoch: 2. Mean Return: 598.8360882352944. Mean Length: 58.8235294117647\n",
      " Epoch: 3. Mean Return: 1018.7877499999998. Mean Length: 100.0\n",
      " Epoch: 4. Mean Return: 1853.6959999999997. Mean Length: 181.8181818181818\n",
      " Epoch: 5. Mean Return: 1854.0053636363634. Mean Length: 181.8181818181818\n",
      " Epoch: 6. Mean Return: 4080.1682. Mean Length: 400.0\n",
      " Epoch: 7. Mean Return: 4079.4219999999987. Mean Length: 400.0\n",
      " Epoch: 8. Mean Return: 10182.515500000012. Mean Length: 1000.0\n",
      " Epoch: 9. Mean Return: 10188.554000000013. Mean Length: 1000.0\n",
      " Epoch: 10. Mean Return: 10183.001499999975. Mean Length: 1000.0\n",
      " Epoch: 11. Mean Return: 20362.384999999962. Mean Length: 2000.0\n",
      " Epoch: 12. Mean Return: 20363.81000000001. Mean Length: 2000.0\n",
      " Epoch: 13. Mean Return: 20364.242000000024. Mean Length: 2000.0\n",
      " Epoch: 14. Mean Return: 10188.255500000017. Mean Length: 1000.0\n",
      " Epoch: 15. Mean Return: 6796.124333333347. Mean Length: 666.6666666666666\n",
      " Epoch: 16. Mean Return: 20363.523999999987. Mean Length: 2000.0\n",
      " Epoch: 17. Mean Return: 20361.82599999996. Mean Length: 2000.0\n",
      " Epoch: 18. Mean Return: 10186.838500000013. Mean Length: 1000.0\n",
      " Epoch: 19. Mean Return: 20362.65899999994. Mean Length: 2000.0\n"
     ]
    }
   ],
   "source": [
    "ppo.learn(epochs=20, steps_per_epoch=2000)"
   ]
  },
  {
   "cell_type": "code",
   "execution_count": 5,
   "metadata": {},
   "outputs": [],
   "source": [
    "ppo.save_weights()"
   ]
  },
  {
   "cell_type": "code",
   "execution_count": 6,
   "metadata": {},
   "outputs": [
    {
     "name": "stdout",
     "output_type": "stream",
     "text": [
      "Epoch 0, reward 26257.203999999903\n"
     ]
    },
    {
     "ename": "",
     "evalue": "",
     "output_type": "error",
     "traceback": [
      "\u001b[1;31mCanceled future for execute_request message before replies were done"
     ]
    },
    {
     "ename": "",
     "evalue": "",
     "output_type": "error",
     "traceback": [
      "\u001b[1;31mThe Kernel crashed while executing code in the the current cell or a previous cell. Please review the code in the cell(s) to identify a possible cause of the failure. Click <a href='https://aka.ms/vscodeJupyterKernelCrash'>here</a> for more info. View Jupyter <a href='command:jupyter.viewOutput'>log</a> for further details."
     ]
    }
   ],
   "source": [
    "ppo.evaluate(5, render = True)"
   ]
  }
 ],
 "metadata": {
  "kernelspec": {
   "display_name": "Python 3",
   "language": "python",
   "name": "python3"
  },
  "language_info": {
   "codemirror_mode": {
    "name": "ipython",
    "version": 3
   },
   "file_extension": ".py",
   "mimetype": "text/x-python",
   "name": "python",
   "nbconvert_exporter": "python",
   "pygments_lexer": "ipython3",
   "version": "3.10.6"
  },
  "orig_nbformat": 4
 },
 "nbformat": 4,
 "nbformat_minor": 2
}
