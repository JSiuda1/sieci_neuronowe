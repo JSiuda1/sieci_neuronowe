{
 "cells": [
  {
   "attachments": {},
   "cell_type": "markdown",
   "metadata": {},
   "source": [
    "<h3>Import dependencies</h3>"
   ]
  },
  {
   "cell_type": "code",
   "execution_count": 10,
   "metadata": {},
   "outputs": [
    {
     "name": "stdout",
     "output_type": "stream",
     "text": [
      "Defaulting to user installation because normal site-packages is not writeable\n",
      "Looking in indexes: https://download.pytorch.org/whl/cu118\n",
      "Requirement already satisfied: torch in /home/kuba/.local/lib/python3.10/site-packages (2.0.0)\n",
      "Requirement already satisfied: torchvision in /home/kuba/.local/lib/python3.10/site-packages (0.15.1+cu118)\n",
      "Requirement already satisfied: torchaudio in /home/kuba/.local/lib/python3.10/site-packages (2.0.1+cu118)\n",
      "Requirement already satisfied: nvidia-cuda-cupti-cu11==11.7.101 in /home/kuba/.local/lib/python3.10/site-packages (from torch) (11.7.101)\n",
      "Requirement already satisfied: sympy in /home/kuba/.local/lib/python3.10/site-packages (from torch) (1.11.1)\n",
      "Requirement already satisfied: nvidia-cusparse-cu11==11.7.4.91 in /home/kuba/.local/lib/python3.10/site-packages (from torch) (11.7.4.91)\n",
      "Requirement already satisfied: typing-extensions in /home/kuba/.local/lib/python3.10/site-packages (from torch) (4.5.0)\n",
      "Requirement already satisfied: networkx in /home/kuba/.local/lib/python3.10/site-packages (from torch) (3.1)\n",
      "Requirement already satisfied: nvidia-cuda-nvrtc-cu11==11.7.99 in /home/kuba/.local/lib/python3.10/site-packages (from torch) (11.7.99)\n",
      "Requirement already satisfied: jinja2 in /home/kuba/.local/lib/python3.10/site-packages (from torch) (3.1.2)\n",
      "Requirement already satisfied: nvidia-cudnn-cu11==8.5.0.96 in /home/kuba/.local/lib/python3.10/site-packages (from torch) (8.5.0.96)\n",
      "Requirement already satisfied: nvidia-cufft-cu11==10.9.0.58 in /home/kuba/.local/lib/python3.10/site-packages (from torch) (10.9.0.58)\n",
      "Requirement already satisfied: nvidia-cusolver-cu11==11.4.0.1 in /home/kuba/.local/lib/python3.10/site-packages (from torch) (11.4.0.1)\n",
      "Requirement already satisfied: triton==2.0.0 in /home/kuba/.local/lib/python3.10/site-packages (from torch) (2.0.0)\n",
      "Requirement already satisfied: nvidia-cublas-cu11==11.10.3.66 in /home/kuba/.local/lib/python3.10/site-packages (from torch) (11.10.3.66)\n",
      "Requirement already satisfied: filelock in /home/kuba/.local/lib/python3.10/site-packages (from torch) (3.12.0)\n",
      "Requirement already satisfied: nvidia-nccl-cu11==2.14.3 in /home/kuba/.local/lib/python3.10/site-packages (from torch) (2.14.3)\n",
      "Requirement already satisfied: nvidia-nvtx-cu11==11.7.91 in /home/kuba/.local/lib/python3.10/site-packages (from torch) (11.7.91)\n",
      "Requirement already satisfied: nvidia-cuda-runtime-cu11==11.7.99 in /home/kuba/.local/lib/python3.10/site-packages (from torch) (11.7.99)\n",
      "Requirement already satisfied: nvidia-curand-cu11==10.2.10.91 in /home/kuba/.local/lib/python3.10/site-packages (from torch) (10.2.10.91)\n",
      "Requirement already satisfied: wheel in /usr/lib/python3/dist-packages (from nvidia-cublas-cu11==11.10.3.66->torch) (0.37.1)\n",
      "Requirement already satisfied: setuptools in /usr/lib/python3/dist-packages (from nvidia-cublas-cu11==11.10.3.66->torch) (59.6.0)\n",
      "Requirement already satisfied: lit in /home/kuba/.local/lib/python3.10/site-packages (from triton==2.0.0->torch) (16.0.2)\n",
      "Requirement already satisfied: cmake in /home/kuba/.local/lib/python3.10/site-packages (from triton==2.0.0->torch) (3.26.3)\n",
      "Requirement already satisfied: requests in /home/kuba/.local/lib/python3.10/site-packages (from torchvision) (2.29.0)\n",
      "Requirement already satisfied: numpy in /home/kuba/.local/lib/python3.10/site-packages (from torchvision) (1.24.3)\n",
      "Requirement already satisfied: pillow!=8.3.*,>=5.3.0 in /usr/lib/python3/dist-packages (from torchvision) (9.0.1)\n",
      "Requirement already satisfied: MarkupSafe>=2.0 in /home/kuba/.local/lib/python3.10/site-packages (from jinja2->torch) (2.1.2)\n",
      "Requirement already satisfied: idna<4,>=2.5 in /home/kuba/.local/lib/python3.10/site-packages (from requests->torchvision) (3.4)\n",
      "Requirement already satisfied: urllib3<1.27,>=1.21.1 in /home/kuba/.local/lib/python3.10/site-packages (from requests->torchvision) (1.26.15)\n",
      "Requirement already satisfied: certifi>=2017.4.17 in /home/kuba/.local/lib/python3.10/site-packages (from requests->torchvision) (2022.12.7)\n",
      "Requirement already satisfied: charset-normalizer<4,>=2 in /home/kuba/.local/lib/python3.10/site-packages (from requests->torchvision) (3.1.0)\n",
      "Requirement already satisfied: mpmath>=0.19 in /home/kuba/.local/lib/python3.10/site-packages (from sympy->torch) (1.3.0)\n"
     ]
    }
   ],
   "source": [
    "!pip3 install torch torchvision torchaudio --index-url https://download.pytorch.org/whl/cu118"
   ]
  },
  {
   "cell_type": "code",
   "execution_count": 2,
   "metadata": {},
   "outputs": [],
   "source": [
    "import os\n",
    "import gym\n",
    "from stable_baselines3 import A2C\n",
    "from stable_baselines3.common.vec_env import VecFrameStack\n",
    "from stable_baselines3.common.evaluation import evaluate_policy\n",
    "from stable_baselines3.common.env_util import make_atari_env"
   ]
  },
  {
   "attachments": {},
   "cell_type": "markdown",
   "metadata": {},
   "source": [
    "<h3>Test Enviroment</h3>"
   ]
  },
  {
   "cell_type": "code",
   "execution_count": 10,
   "metadata": {},
   "outputs": [
    {
     "name": "stdout",
     "output_type": "stream",
     "text": [
      "Defaulting to user installation because normal site-packages is not writeable\n",
      "Requirement already satisfied: atari_py in /home/kuba/.local/lib/python3.10/site-packages (0.2.9)\n",
      "Requirement already satisfied: numpy in /home/kuba/.local/lib/python3.10/site-packages (from atari_py) (1.24.3)\n",
      "Requirement already satisfied: six in /usr/lib/python3/dist-packages (from atari_py) (1.16.0)\n",
      "copying trondead.bin from ./ROMS/TRON - Deadly Discs (TRON Joystick) (1983) (M Network - INTV - APh Technological Consulting, Jeff Ronne, Brett Stutz) (MT5662) ~.bin to /home/kuba/.local/lib/python3.10/site-packages/atari_py/atari_roms/trondead.bin\n",
      "copying pong.bin from ./ROMS/Video Olympics - Pong Sports (Paddle) (1977) (Atari, Joe Decuir - Sears) (CX2621 - 99806, 6-99806, 49-75104) ~.bin to /home/kuba/.local/lib/python3.10/site-packages/atari_py/atari_roms/pong.bin\n",
      "copying kung_fu_master.bin from ./ROMS/Kung-Fu Master (1987) (Activision - Imagineering, Dan Kitchen, Garry Kitchen) (AG-039-04) ~.bin to /home/kuba/.local/lib/python3.10/site-packages/atari_py/atari_roms/kung_fu_master.bin\n",
      "copying qbert.bin from ./ROMS/Q-bert (1983) (Parker Brothers - Western Technologies, Dave Hampton, Tom Sloper) (PB5360) ~.bin to /home/kuba/.local/lib/python3.10/site-packages/atari_py/atari_roms/qbert.bin\n",
      "copying battle_zone.bin from ./ROMS/Battlezone (1983) (Atari - GCC, Michael Feinstein, Patricia Goodson, Brad Rice) (CX2681) ~.bin to /home/kuba/.local/lib/python3.10/site-packages/atari_py/atari_roms/battle_zone.bin\n",
      "copying keystone_kapers.bin from ./ROMS/Keystone Kapers - Raueber und Gendarm (1983) (Activision, Garry Kitchen - Ariola) (EAX-025, EAX-025-04I - 711 025-725) (PAL).bin to /home/kuba/.local/lib/python3.10/site-packages/atari_py/atari_roms/keystone_kapers.bin\n",
      "copying phoenix.bin from ./ROMS/Phoenix (1983) (Atari - GCC, Michael Feinstein, Patricia Goodson, John Mracek) (CX2673) ~.bin to /home/kuba/.local/lib/python3.10/site-packages/atari_py/atari_roms/phoenix.bin\n",
      "copying king_kong.bin from ./ROMS/King Kong (1982) (Tigervision - Software Electronics Corporation, Karl T. Olinger - Teldec) (7-001 - 3.60001 VE) (PAL).bin to /home/kuba/.local/lib/python3.10/site-packages/atari_py/atari_roms/king_kong.bin\n",
      "copying bank_heist.bin from ./ROMS/Bank Heist (Bonnie & Clyde, Cops 'n' Robbers, Hold-Up, Roaring 20's) (1983) (20th Century Fox Video Games, Bill Aspromonte) (11012) ~.bin to /home/kuba/.local/lib/python3.10/site-packages/atari_py/atari_roms/bank_heist.bin\n",
      "copying centipede.bin from ./ROMS/Centipede (1983) (Atari - GCC, Patricia Goodson, Josh Littlefield, Douglas B. Macrae) (CX2676) ~.bin to /home/kuba/.local/lib/python3.10/site-packages/atari_py/atari_roms/centipede.bin\n",
      "copying freeway.bin from ./ROMS/Freeway (1981) (Activision, David Crane) (AG-009, AG-009-04) ~.bin to /home/kuba/.local/lib/python3.10/site-packages/atari_py/atari_roms/freeway.bin\n",
      "copying enduro.bin from ./ROMS/Enduro (1983) (Activision, Larry Miller) (AX-026, AX-026-04) ~.bin to /home/kuba/.local/lib/python3.10/site-packages/atari_py/atari_roms/enduro.bin\n",
      "copying carnival.bin from ./ROMS/Carnival (1982) (Coleco - Woodside Design Associates, Steve 'Jessica Stevens' Kitchen) (2468) ~.bin to /home/kuba/.local/lib/python3.10/site-packages/atari_py/atari_roms/carnival.bin\n",
      "copying surround.bin from ./ROMS/Surround (32 in 1) (Bit Corporation) (R320).bin to /home/kuba/.local/lib/python3.10/site-packages/atari_py/atari_roms/surround.bin\n",
      "copying krull.bin from ./ROMS/Krull (1983) (Atari, Jerome Domurat, Dave Staugas) (CX2682) ~.bin to /home/kuba/.local/lib/python3.10/site-packages/atari_py/atari_roms/krull.bin\n",
      "copying pacman.bin from ./ROMS/Pac-Man (1982) (Atari, Tod Frye) (CX2646) (PAL).bin to /home/kuba/.local/lib/python3.10/site-packages/atari_py/atari_roms/pacman.bin\n",
      "copying video_pinball.bin from ./ROMS/Pinball (AKA Video Pinball) (Zellers).bin to /home/kuba/.local/lib/python3.10/site-packages/atari_py/atari_roms/video_pinball.bin\n",
      "copying road_runner.bin from patched version of ./ROMS/Road Runner (1989) (Atari - Bobco, Robert C. Polaro) (CX2663) ~.bin to /home/kuba/.local/lib/python3.10/site-packages/atari_py/atari_roms/road_runner.bin\n",
      "copying yars_revenge.bin from ./ROMS/Yars' Revenge (Time Freeze) (1982) (Atari, Howard Scott Warshaw - Sears) (CX2655 - 49-75167) ~.bin to /home/kuba/.local/lib/python3.10/site-packages/atari_py/atari_roms/yars_revenge.bin\n",
      "copying demon_attack.bin from ./ROMS/Demon Attack (Death from Above) (1982) (Imagic, Rob Fulop) (720000-200, 720101-1B, 720101-1C, IA3200, IA3200C, IX-006-04) ~.bin to /home/kuba/.local/lib/python3.10/site-packages/atari_py/atari_roms/demon_attack.bin\n",
      "copying montezuma_revenge.bin from ./ROMS/Montezuma's Revenge - Featuring Panama Joe (1984) (Parker Brothers - JWDA, Henry Will IV) (PB5760) ~.bin to /home/kuba/.local/lib/python3.10/site-packages/atari_py/atari_roms/montezuma_revenge.bin\n",
      "copying atlantis.bin from ./ROMS/Atlantis (Lost City of Atlantis) (1982) (Imagic, Dennis Koble) (720103-1A, 720103-1B, IA3203, IX-010-04) ~.bin to /home/kuba/.local/lib/python3.10/site-packages/atari_py/atari_roms/atlantis.bin\n",
      "copying venture.bin from ./ROMS/Venture (1982) (Coleco, Joseph Biel) (2457) ~.bin to /home/kuba/.local/lib/python3.10/site-packages/atari_py/atari_roms/venture.bin\n",
      "copying donkey_kong.bin from ./ROMS/Donkey Kong (1987) (Atari) (CX26143).bin to /home/kuba/.local/lib/python3.10/site-packages/atari_py/atari_roms/donkey_kong.bin\n",
      "copying boxing.bin from ./ROMS/Boxing - La Boxe (1980) (Activision, Bob Whitehead) (AG-002, CAG-002, AG-002-04) ~.bin to /home/kuba/.local/lib/python3.10/site-packages/atari_py/atari_roms/boxing.bin\n",
      "copying koolaid.bin from ./ROMS/Kool-Aid Man (Kool Aid Pitcher Man) (1983) (M Network, Stephen Tatsumi, Jane Terjung - Kool Aid) (MT4648) ~.bin to /home/kuba/.local/lib/python3.10/site-packages/atari_py/atari_roms/koolaid.bin\n",
      "copying space_invaders.bin from ./ROMS/Space Invaders (1980) (Atari, Richard Maurer - Sears) (CX2632 - 49-75153) ~.bin to /home/kuba/.local/lib/python3.10/site-packages/atari_py/atari_roms/space_invaders.bin\n",
      "copying up_n_down.bin from ./ROMS/Up 'n Down (1984) (SEGA - Beck-Tech, Steve Beck, Phat Ho) (009-01) ~.bin to /home/kuba/.local/lib/python3.10/site-packages/atari_py/atari_roms/up_n_down.bin\n",
      "copying bowling.bin from ./ROMS/Bowling (1979) (Atari, Larry Kaplan - Sears) (CX2628 - 6-99842, 49-75117) ~.bin to /home/kuba/.local/lib/python3.10/site-packages/atari_py/atari_roms/bowling.bin\n",
      "copying double_dunk.bin from ./ROMS/Double Dunk (Super Basketball) (1989) (Atari, Matthew L. Hubbard) (CX26159) ~.bin to /home/kuba/.local/lib/python3.10/site-packages/atari_py/atari_roms/double_dunk.bin\n",
      "copying wizard_of_wor.bin from ./ROMS/Wizard of Wor (1982) (CBS Electronics - Roklan, Joe Hellesen, Joe Wagner) (M8774, M8794) ~.bin to /home/kuba/.local/lib/python3.10/site-packages/atari_py/atari_roms/wizard_of_wor.bin\n",
      "copying assault.bin from ./ROMS/Assault (AKA Sky Alien) (1983) (Bomb - Onbase) (CA281).bin to /home/kuba/.local/lib/python3.10/site-packages/atari_py/atari_roms/assault.bin\n",
      "copying pooyan.bin from ./ROMS/Pooyan (1983) (Konami) (RC 100-X 02) ~.bin to /home/kuba/.local/lib/python3.10/site-packages/atari_py/atari_roms/pooyan.bin\n",
      "copying riverraid.bin from ./ROMS/River Raid (1982) (Activision, Carol Shaw) (AX-020, AX-020-04) ~.bin to /home/kuba/.local/lib/python3.10/site-packages/atari_py/atari_roms/riverraid.bin\n",
      "copying lost_luggage.bin from ./ROMS/Lost Luggage (Airport Mayhem) (1982) (Apollo - Games by Apollo, Larry Minor, Ernie Runyon, Ed Salvo) (AP-2004) [no opening scene] ~.bin to /home/kuba/.local/lib/python3.10/site-packages/atari_py/atari_roms/lost_luggage.bin\n",
      "copying asteroids.bin from ./ROMS/Asteroids (1981) (Atari, Brad Stewart - Sears) (CX2649 - 49-75163) [no copyright] ~.bin to /home/kuba/.local/lib/python3.10/site-packages/atari_py/atari_roms/asteroids.bin\n",
      "copying pitfall.bin from ./ROMS/Pitfall! - Pitfall Harry's Jungle Adventure (Jungle Runner) (1982) (Activision, David Crane) (AX-018, AX-018-04) ~.bin to /home/kuba/.local/lib/python3.10/site-packages/atari_py/atari_roms/pitfall.bin\n",
      "copying asterix.bin from ./ROMS/Asterix (AKA Taz) (1984) (Atari, Jerome Domurat, Steve Woita) (CX2696).bin to /home/kuba/.local/lib/python3.10/site-packages/atari_py/atari_roms/asterix.bin\n",
      "copying skiing.bin from ./ROMS/Skiing - Le Ski (1980) (Activision, Bob Whitehead) (AG-005, CAG-005, AG-005-04) ~.bin to /home/kuba/.local/lib/python3.10/site-packages/atari_py/atari_roms/skiing.bin\n",
      "copying tennis.bin from ./ROMS/Tennis - Le Tennis (1981) (Activision, Alan Miller) (AG-007, CAG-007) ~.bin to /home/kuba/.local/lib/python3.10/site-packages/atari_py/atari_roms/tennis.bin\n",
      "copying kangaroo.bin from ./ROMS/Kangaroo (1983) (Atari - GCC, Patricia Goodson, Josh Littlefield, Kevin Osborn) (CX2689) ~.bin to /home/kuba/.local/lib/python3.10/site-packages/atari_py/atari_roms/kangaroo.bin\n",
      "copying laser_gates.bin from ./ROMS/Laser Gates (AKA Innerspace) (1983) (Imagic, Dan Oliver) (720118-2A, 13208, EIX-007-04I) (PAL).bin to /home/kuba/.local/lib/python3.10/site-packages/atari_py/atari_roms/laser_gates.bin\n",
      "copying hero.bin from ./ROMS/H.E.R.O. (1984) (Activision, John Van Ryzin) (AZ-036-04) ~.bin to /home/kuba/.local/lib/python3.10/site-packages/atari_py/atari_roms/hero.bin\n",
      "copying name_this_game.bin from ./ROMS/Name This Game (Guardians of Treasure, Octopussy) (1983) (U.S. Games Corporation - JWDA, Roger Booth, Sylvia Day, Ron Dubren, Todd Marshall, Robin McDaniel, Wes Trager, Henry Will IV) (VC1007) ~.bin to /home/kuba/.local/lib/python3.10/site-packages/atari_py/atari_roms/name_this_game.bin\n",
      "copying zaxxon.bin from ./ROMS/Zaxxon (1983) (Coleco) (2454) ~.bin to /home/kuba/.local/lib/python3.10/site-packages/atari_py/atari_roms/zaxxon.bin\n",
      "copying star_gunner.bin from ./ROMS/Stargunner (1983) (Telesys, Alex Leavens) (1005) ~.bin to /home/kuba/.local/lib/python3.10/site-packages/atari_py/atari_roms/star_gunner.bin\n",
      "copying private_eye.bin from ./ROMS/Private Eye (1984) (Activision, Bob Whitehead) (AG-034-04) ~.bin to /home/kuba/.local/lib/python3.10/site-packages/atari_py/atari_roms/private_eye.bin\n",
      "copying crazy_climber.bin from ./ROMS/Crazy Climber (1983) (Atari - Roklan, Joe Gaucher, Alex Leavens) (CX2683) ~.bin to /home/kuba/.local/lib/python3.10/site-packages/atari_py/atari_roms/crazy_climber.bin\n",
      "copying fishing_derby.bin from ./ROMS/Fishing Derby (1980) (Activision, David Crane) (AG-004) ~.bin to /home/kuba/.local/lib/python3.10/site-packages/atari_py/atari_roms/fishing_derby.bin\n",
      "copying jamesbond.bin from ./ROMS/James Bond 007 (James Bond Agent 007) (1984) (Parker Brothers - On-Time Software, Joe Gaucher, Dan Kurczewski, Louis Marbel, Kathy Von) (PB5110) ~.bin to /home/kuba/.local/lib/python3.10/site-packages/atari_py/atari_roms/jamesbond.bin\n",
      "copying beam_rider.bin from ./ROMS/Beamrider (1984) (Activision - Cheshire Engineering, David Rolfe, Larry Zwick) (AZ-037-04) ~.bin to /home/kuba/.local/lib/python3.10/site-packages/atari_py/atari_roms/beam_rider.bin\n",
      "copying sir_lancelot.bin from ./ROMS/Sir Lancelot (1983) (Xonox - K-Tel Software - Product Guild, Anthony R. Henderson) (99006, 6220) (PAL).bin to /home/kuba/.local/lib/python3.10/site-packages/atari_py/atari_roms/sir_lancelot.bin\n",
      "copying robotank.bin from ./ROMS/Robot Tank (Robotank) (1983) (Activision, Alan Miller) (AZ-028, AG-028-04) ~.bin to /home/kuba/.local/lib/python3.10/site-packages/atari_py/atari_roms/robotank.bin\n",
      "copying air_raid.bin from ./ROMS/Air Raid (1982) (Men-A-Vision) (PAL) ~.bin to /home/kuba/.local/lib/python3.10/site-packages/atari_py/atari_roms/air_raid.bin\n",
      "copying time_pilot.bin from ./ROMS/Time Pilot (1983) (Coleco - Woodside Design Associates, Harley H. Puthuff Jr.) (2663) ~.bin to /home/kuba/.local/lib/python3.10/site-packages/atari_py/atari_roms/time_pilot.bin\n",
      "copying breakout.bin from ./ROMS/Breakout - Breakaway IV (Paddle) (1978) (Atari, Brad Stewart - Sears) (CX2622 - 6-99813, 49-75107) ~.bin to /home/kuba/.local/lib/python3.10/site-packages/atari_py/atari_roms/breakout.bin\n",
      "copying ms_pacman.bin from ./ROMS/Ms. Pac-Man (1983) (Atari - GCC, Mark S. Ackerman, Patricia Goodson, Josh Littlefield, Douglas B. Macrae, Glenn Parker) (CX2675) ~.bin to /home/kuba/.local/lib/python3.10/site-packages/atari_py/atari_roms/ms_pacman.bin\n",
      "copying adventure.bin from ./ROMS/Adventure (1980) (Atari, Warren Robinett) (CX2613, CX2613P) (PAL).bin to /home/kuba/.local/lib/python3.10/site-packages/atari_py/atari_roms/adventure.bin\n",
      "copying elevator_action.bin from ./ROMS/Elevator Action (1983) (Atari, Dan Hitchens, Dave Staugas) (CX26126) (Prototype) ~.bin to /home/kuba/.local/lib/python3.10/site-packages/atari_py/atari_roms/elevator_action.bin\n",
      "copying tutankham.bin from ./ROMS/Tutankham (1983) (Parker Brothers, Dave Engman, Dawn Stockbridge) (PB5340) ~.bin to /home/kuba/.local/lib/python3.10/site-packages/atari_py/atari_roms/tutankham.bin\n",
      "copying gravitar.bin from ./ROMS/Gravitar (1983) (Atari, Dan Hitchens, Mimi Nyden) (CX2685) ~.bin to /home/kuba/.local/lib/python3.10/site-packages/atari_py/atari_roms/gravitar.bin\n",
      "copying amidar.bin from ./ROMS/Amidar (1982) (Parker Brothers, Ed Temple) (PB5310) ~.bin to /home/kuba/.local/lib/python3.10/site-packages/atari_py/atari_roms/amidar.bin\n",
      "copying berzerk.bin from ./ROMS/Berzerk (1982) (Atari, Dan Hitchens - Sears) (CX2650 - 49-75168) ~.bin to /home/kuba/.local/lib/python3.10/site-packages/atari_py/atari_roms/berzerk.bin\n",
      "copying frogger.bin from ./ROMS/Frogger (1982) (Parker Brothers, Ed English, David Lamkins) (PB5300) ~.bin to /home/kuba/.local/lib/python3.10/site-packages/atari_py/atari_roms/frogger.bin\n",
      "copying kaboom.bin from ./ROMS/Kaboom! (Paddle) (1981) (Activision, Larry Kaplan, David Crane) (AG-010, CAG-010, AG-010-04) ~.bin to /home/kuba/.local/lib/python3.10/site-packages/atari_py/atari_roms/kaboom.bin\n",
      "copying frostbite.bin from ./ROMS/Frostbite (Iceman) (1983) (Activision, Steve Cartwright) (AX-031) ~.bin to /home/kuba/.local/lib/python3.10/site-packages/atari_py/atari_roms/frostbite.bin\n",
      "copying defender.bin from ./ROMS/Defender (1982) (Atari, Robert C. Polaro, Alan J. Murphy - Sears) (CX2609 - 49-75186) ~.bin to /home/kuba/.local/lib/python3.10/site-packages/atari_py/atari_roms/defender.bin\n",
      "copying chopper_command.bin from ./ROMS/Chopper Command (1982) (Activision, Bob Whitehead) (AX-015, AX-015-04) ~.bin to /home/kuba/.local/lib/python3.10/site-packages/atari_py/atari_roms/chopper_command.bin\n",
      "copying mr_do.bin from ./ROMS/Mr. Do! (1983) (CBS Electronics - Individeo, Ed English) (4L4478) (PAL).bin to /home/kuba/.local/lib/python3.10/site-packages/atari_py/atari_roms/mr_do.bin\n",
      "copying gopher.bin from ./ROMS/Gopher (Gopher Attack) (1982) (U.S. Games Corporation - JWDA, Sylvia Day, Todd Marshall, Robin McDaniel, Henry Will IV) (VC2001) ~.bin to /home/kuba/.local/lib/python3.10/site-packages/atari_py/atari_roms/gopher.bin\n",
      "copying solaris.bin from ./ROMS/Solaris (The Last Starfighter, Star Raiders II, Universe) (1986) (Atari, Douglas Neubauer, Mimi Nyden) (CX26136) ~.bin to /home/kuba/.local/lib/python3.10/site-packages/atari_py/atari_roms/solaris.bin\n",
      "copying ice_hockey.bin from ./ROMS/Ice Hockey - Le Hockey Sur Glace (1981) (Activision, Alan Miller) (AX-012, CAX-012, AX-012-04) ~.bin to /home/kuba/.local/lib/python3.10/site-packages/atari_py/atari_roms/ice_hockey.bin\n",
      "copying seaquest.bin from ./ROMS/Seaquest (1983) (Activision, Steve Cartwright) (AX-022) ~.bin to /home/kuba/.local/lib/python3.10/site-packages/atari_py/atari_roms/seaquest.bin\n",
      "copying alien.bin from ./ROMS/Alien (1982) (20th Century Fox Video Games, Douglas 'Dallas North' Neubauer) (11006) ~.bin to /home/kuba/.local/lib/python3.10/site-packages/atari_py/atari_roms/alien.bin\n",
      "copying galaxian.bin from ./ROMS/Galaxian (1983) (Atari - GCC, Mark S. Ackerman, Tom Calderwood, Patricia Goodson, Glenn Parker) (CX2684) ~.bin to /home/kuba/.local/lib/python3.10/site-packages/atari_py/atari_roms/galaxian.bin\n",
      "copying journey_escape.bin from ./ROMS/Journey Escape (1983) (Data Age, J. Ray Dettling) (112-006) ~.bin to /home/kuba/.local/lib/python3.10/site-packages/atari_py/atari_roms/journey_escape.bin\n"
     ]
    }
   ],
   "source": [
    "!pip3 install atari_py\n",
    "!python3 -m atari_py.import_roms ./ROMS"
   ]
  },
  {
   "cell_type": "code",
   "execution_count": 11,
   "metadata": {},
   "outputs": [],
   "source": [
    "enviroment_name = 'Breakout-v0'\n",
    "env = gym.make(enviroment_name)"
   ]
  },
  {
   "cell_type": "code",
   "execution_count": 12,
   "metadata": {},
   "outputs": [
    {
     "name": "stdout",
     "output_type": "stream",
     "text": [
      "Episode 1 Score 1.0\n",
      "Episode 2 Score 0.0\n",
      "Episode 3 Score 1.0\n",
      "Episode 4 Score 1.0\n",
      "Episode 5 Score 2.0\n"
     ]
    }
   ],
   "source": [
    "episodes = 5\n",
    "for episode in range (1, episodes + 1):\n",
    "    obs = env.reset()\n",
    "    done = False\n",
    "    score = 0\n",
    "\n",
    "    while not done:\n",
    "        env.render()\n",
    "        action = env.action_space.sample()\n",
    "        obs, reward, done, info = env.step(action)\n",
    "        score += reward\n",
    "    print('Episode {} Score {}'.format(episode, score))\n",
    "\n",
    "env.close()"
   ]
  },
  {
   "cell_type": "code",
   "execution_count": 25,
   "metadata": {},
   "outputs": [],
   "source": [
    "env = make_atari_env('Breakout-v0', n_envs=4, seed=0)\n",
    "env = VecFrameStack(env, n_stack=4)\n"
   ]
  },
  {
   "cell_type": "code",
   "execution_count": 26,
   "metadata": {},
   "outputs": [
    {
     "name": "stdout",
     "output_type": "stream",
     "text": [
      "Using cpu device\n",
      "Wrapping the env in a VecTransposeImage.\n"
     ]
    }
   ],
   "source": [
    "log_path = os.path.join(\"Traning\", \"Logs\")\n",
    "model = A2C(\"CnnPolicy\", env, verbose=1, tensorboard_log=log_path)"
   ]
  },
  {
   "cell_type": "code",
   "execution_count": 27,
   "metadata": {},
   "outputs": [
    {
     "name": "stdout",
     "output_type": "stream",
     "text": [
      "Logging to Traning/Logs/A2C_3\n",
      "------------------------------------\n",
      "| rollout/              |          |\n",
      "|    ep_len_mean        | 269      |\n",
      "|    ep_rew_mean        | 1.18     |\n",
      "| time/                 |          |\n",
      "|    fps                | 165      |\n",
      "|    iterations         | 100      |\n",
      "|    time_elapsed       | 12       |\n",
      "|    total_timesteps    | 2000     |\n",
      "| train/                |          |\n",
      "|    entropy_loss       | -1.39    |\n",
      "|    explained_variance | 0.0729   |\n",
      "|    learning_rate      | 0.0007   |\n",
      "|    n_updates          | 99       |\n",
      "|    policy_loss        | 0.11     |\n",
      "|    value_loss         | 0.101    |\n",
      "------------------------------------\n",
      "------------------------------------\n",
      "| rollout/              |          |\n",
      "|    ep_len_mean        | 277      |\n",
      "|    ep_rew_mean        | 1.35     |\n",
      "| time/                 |          |\n",
      "|    fps                | 166      |\n",
      "|    iterations         | 200      |\n",
      "|    time_elapsed       | 24       |\n",
      "|    total_timesteps    | 4000     |\n",
      "| train/                |          |\n",
      "|    entropy_loss       | -1.38    |\n",
      "|    explained_variance | -1.35    |\n",
      "|    learning_rate      | 0.0007   |\n",
      "|    n_updates          | 199      |\n",
      "|    policy_loss        | -0.469   |\n",
      "|    value_loss         | 0.244    |\n",
      "------------------------------------\n",
      "------------------------------------\n",
      "| rollout/              |          |\n",
      "|    ep_len_mean        | 287      |\n",
      "|    ep_rew_mean        | 1.59     |\n",
      "| time/                 |          |\n",
      "|    fps                | 172      |\n",
      "|    iterations         | 300      |\n",
      "|    time_elapsed       | 34       |\n",
      "|    total_timesteps    | 6000     |\n",
      "| train/                |          |\n",
      "|    entropy_loss       | -1.38    |\n",
      "|    explained_variance | 0.459    |\n",
      "|    learning_rate      | 0.0007   |\n",
      "|    n_updates          | 299      |\n",
      "|    policy_loss        | 0.436    |\n",
      "|    value_loss         | 0.221    |\n",
      "------------------------------------\n",
      "------------------------------------\n",
      "| rollout/              |          |\n",
      "|    ep_len_mean        | 291      |\n",
      "|    ep_rew_mean        | 1.75     |\n",
      "| time/                 |          |\n",
      "|    fps                | 169      |\n",
      "|    iterations         | 400      |\n",
      "|    time_elapsed       | 47       |\n",
      "|    total_timesteps    | 8000     |\n",
      "| train/                |          |\n",
      "|    entropy_loss       | -1.36    |\n",
      "|    explained_variance | 0.595    |\n",
      "|    learning_rate      | 0.0007   |\n",
      "|    n_updates          | 399      |\n",
      "|    policy_loss        | -0.35    |\n",
      "|    value_loss         | 0.179    |\n",
      "------------------------------------\n",
      "------------------------------------\n",
      "| rollout/              |          |\n",
      "|    ep_len_mean        | 307      |\n",
      "|    ep_rew_mean        | 2.03     |\n",
      "| time/                 |          |\n",
      "|    fps                | 171      |\n",
      "|    iterations         | 500      |\n",
      "|    time_elapsed       | 58       |\n",
      "|    total_timesteps    | 10000    |\n",
      "| train/                |          |\n",
      "|    entropy_loss       | -1.35    |\n",
      "|    explained_variance | 0.224    |\n",
      "|    learning_rate      | 0.0007   |\n",
      "|    n_updates          | 499      |\n",
      "|    policy_loss        | -0.00926 |\n",
      "|    value_loss         | 0.149    |\n",
      "------------------------------------\n",
      "------------------------------------\n",
      "| rollout/              |          |\n",
      "|    ep_len_mean        | 310      |\n",
      "|    ep_rew_mean        | 2.05     |\n",
      "| time/                 |          |\n",
      "|    fps                | 169      |\n",
      "|    iterations         | 600      |\n",
      "|    time_elapsed       | 70       |\n",
      "|    total_timesteps    | 12000    |\n",
      "| train/                |          |\n",
      "|    entropy_loss       | -1.3     |\n",
      "|    explained_variance | 0.955    |\n",
      "|    learning_rate      | 0.0007   |\n",
      "|    n_updates          | 599      |\n",
      "|    policy_loss        | 0.0781   |\n",
      "|    value_loss         | 0.0153   |\n",
      "------------------------------------\n",
      "------------------------------------\n",
      "| rollout/              |          |\n",
      "|    ep_len_mean        | 322      |\n",
      "|    ep_rew_mean        | 2.27     |\n",
      "| time/                 |          |\n",
      "|    fps                | 169      |\n",
      "|    iterations         | 700      |\n",
      "|    time_elapsed       | 82       |\n",
      "|    total_timesteps    | 14000    |\n",
      "| train/                |          |\n",
      "|    entropy_loss       | -1.2     |\n",
      "|    explained_variance | 0.825    |\n",
      "|    learning_rate      | 0.0007   |\n",
      "|    n_updates          | 699      |\n",
      "|    policy_loss        | -0.0394  |\n",
      "|    value_loss         | 0.0644   |\n",
      "------------------------------------\n",
      "------------------------------------\n",
      "| rollout/              |          |\n",
      "|    ep_len_mean        | 315      |\n",
      "|    ep_rew_mean        | 2.15     |\n",
      "| time/                 |          |\n",
      "|    fps                | 169      |\n",
      "|    iterations         | 800      |\n",
      "|    time_elapsed       | 94       |\n",
      "|    total_timesteps    | 16000    |\n",
      "| train/                |          |\n",
      "|    entropy_loss       | -1.19    |\n",
      "|    explained_variance | 0.842    |\n",
      "|    learning_rate      | 0.0007   |\n",
      "|    n_updates          | 799      |\n",
      "|    policy_loss        | 0.0175   |\n",
      "|    value_loss         | 0.0313   |\n",
      "------------------------------------\n",
      "------------------------------------\n",
      "| rollout/              |          |\n",
      "|    ep_len_mean        | 326      |\n",
      "|    ep_rew_mean        | 2.38     |\n",
      "| time/                 |          |\n",
      "|    fps                | 168      |\n",
      "|    iterations         | 900      |\n",
      "|    time_elapsed       | 106      |\n",
      "|    total_timesteps    | 18000    |\n",
      "| train/                |          |\n",
      "|    entropy_loss       | -1.33    |\n",
      "|    explained_variance | 0.833    |\n",
      "|    learning_rate      | 0.0007   |\n",
      "|    n_updates          | 899      |\n",
      "|    policy_loss        | 0.0902   |\n",
      "|    value_loss         | 0.015    |\n",
      "------------------------------------\n",
      "------------------------------------\n",
      "| rollout/              |          |\n",
      "|    ep_len_mean        | 326      |\n",
      "|    ep_rew_mean        | 2.39     |\n",
      "| time/                 |          |\n",
      "|    fps                | 165      |\n",
      "|    iterations         | 1000     |\n",
      "|    time_elapsed       | 121      |\n",
      "|    total_timesteps    | 20000    |\n",
      "| train/                |          |\n",
      "|    entropy_loss       | -0.703   |\n",
      "|    explained_variance | 0.926    |\n",
      "|    learning_rate      | 0.0007   |\n",
      "|    n_updates          | 999      |\n",
      "|    policy_loss        | 0.064    |\n",
      "|    value_loss         | 0.0272   |\n",
      "------------------------------------\n"
     ]
    },
    {
     "data": {
      "text/plain": [
       "<stable_baselines3.a2c.a2c.A2C at 0x7f64753e2b30>"
      ]
     },
     "execution_count": 27,
     "metadata": {},
     "output_type": "execute_result"
    }
   ],
   "source": [
    "model.learn(total_timesteps=20000)"
   ]
  },
  {
   "attachments": {},
   "cell_type": "markdown",
   "metadata": {},
   "source": [
    "<h3> Save and reload model </h3>"
   ]
  },
  {
   "cell_type": "code",
   "execution_count": 31,
   "metadata": {},
   "outputs": [],
   "source": [
    "a2c_path = os.path.join('Traning', 'Saved_models', 'A2C_Breakout_Model')\n",
    "model.save(a2c_path)"
   ]
  },
  {
   "cell_type": "code",
   "execution_count": 32,
   "metadata": {},
   "outputs": [],
   "source": [
    "del model"
   ]
  },
  {
   "cell_type": "code",
   "execution_count": 33,
   "metadata": {},
   "outputs": [],
   "source": [
    "model = A2C.load(a2c_path)"
   ]
  },
  {
   "attachments": {},
   "cell_type": "markdown",
   "metadata": {},
   "source": [
    "<h3>Evaluate and test</h3>"
   ]
  },
  {
   "cell_type": "code",
   "execution_count": 42,
   "metadata": {},
   "outputs": [
    {
     "data": {
      "text/plain": [
       "(2.48, 1.513142425550219)"
      ]
     },
     "execution_count": 42,
     "metadata": {},
     "output_type": "execute_result"
    }
   ],
   "source": [
    "env = make_atari_env('Breakout-v0', n_envs=1, seed=0)\n",
    "env = VecFrameStack(env, n_stack=4)\n",
    "evaluate_policy(model, env, n_eval_episodes=50, render=True)    # return average score, and standard deviation"
   ]
  },
  {
   "cell_type": "code",
   "execution_count": 43,
   "metadata": {},
   "outputs": [],
   "source": [
    "env.close()"
   ]
  }
 ],
 "metadata": {
  "kernelspec": {
   "display_name": "Python 3",
   "language": "python",
   "name": "python3"
  },
  "language_info": {
   "codemirror_mode": {
    "name": "ipython",
    "version": 3
   },
   "file_extension": ".py",
   "mimetype": "text/x-python",
   "name": "python",
   "nbconvert_exporter": "python",
   "pygments_lexer": "ipython3",
   "version": "3.10.6"
  },
  "orig_nbformat": 4
 },
 "nbformat": 4,
 "nbformat_minor": 2
}
