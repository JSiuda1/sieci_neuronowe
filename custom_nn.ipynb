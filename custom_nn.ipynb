{
 "cells": [
  {
   "attachments": {},
   "cell_type": "markdown",
   "metadata": {},
   "source": [
    "# Inverted pendulu - custom neural network"
   ]
  },
  {
   "attachments": {},
   "cell_type": "markdown",
   "metadata": {},
   "source": [
    "Install dependencies"
   ]
  },
  {
   "cell_type": "code",
   "execution_count": 3,
   "metadata": {},
   "outputs": [
    {
     "name": "stdout",
     "output_type": "stream",
     "text": [
      "Defaulting to user installation because normal site-packages is not writeable\n",
      "Requirement already satisfied: tensorflow in /home/kuba/.local/lib/python3.10/site-packages (2.12.0)\n",
      "Requirement already satisfied: tensorflow-estimator<2.13,>=2.12.0 in /home/kuba/.local/lib/python3.10/site-packages (from tensorflow) (2.12.0)\n",
      "Requirement already satisfied: wrapt<1.15,>=1.11.0 in /home/kuba/.local/lib/python3.10/site-packages (from tensorflow) (1.14.1)\n",
      "Requirement already satisfied: packaging in /home/kuba/.local/lib/python3.10/site-packages (from tensorflow) (23.1)\n",
      "Requirement already satisfied: tensorflow-io-gcs-filesystem>=0.23.1 in /home/kuba/.local/lib/python3.10/site-packages (from tensorflow) (0.32.0)\n",
      "Requirement already satisfied: opt-einsum>=2.3.2 in /home/kuba/.local/lib/python3.10/site-packages (from tensorflow) (3.3.0)\n",
      "Requirement already satisfied: grpcio<2.0,>=1.24.3 in /home/kuba/.local/lib/python3.10/site-packages (from tensorflow) (1.54.0)\n",
      "Requirement already satisfied: numpy<1.24,>=1.22 in /home/kuba/.local/lib/python3.10/site-packages (from tensorflow) (1.23.5)\n",
      "Requirement already satisfied: flatbuffers>=2.0 in /home/kuba/.local/lib/python3.10/site-packages (from tensorflow) (23.3.3)\n",
      "Requirement already satisfied: libclang>=13.0.0 in /home/kuba/.local/lib/python3.10/site-packages (from tensorflow) (16.0.0)\n",
      "Requirement already satisfied: jax>=0.3.15 in /home/kuba/.local/lib/python3.10/site-packages (from tensorflow) (0.4.8)\n",
      "Requirement already satisfied: termcolor>=1.1.0 in /home/kuba/.local/lib/python3.10/site-packages (from tensorflow) (2.3.0)\n",
      "Requirement already satisfied: gast<=0.4.0,>=0.2.1 in /home/kuba/.local/lib/python3.10/site-packages (from tensorflow) (0.4.0)\n",
      "Requirement already satisfied: astunparse>=1.6.0 in /home/kuba/.local/lib/python3.10/site-packages (from tensorflow) (1.6.3)\n",
      "Requirement already satisfied: protobuf!=4.21.0,!=4.21.1,!=4.21.2,!=4.21.3,!=4.21.4,!=4.21.5,<5.0.0dev,>=3.20.3 in /home/kuba/.local/lib/python3.10/site-packages (from tensorflow) (4.22.3)\n",
      "Requirement already satisfied: h5py>=2.9.0 in /home/kuba/.local/lib/python3.10/site-packages (from tensorflow) (3.8.0)\n",
      "Requirement already satisfied: typing-extensions>=3.6.6 in /home/kuba/.local/lib/python3.10/site-packages (from tensorflow) (4.5.0)\n",
      "Requirement already satisfied: six>=1.12.0 in /usr/lib/python3/dist-packages (from tensorflow) (1.16.0)\n",
      "Requirement already satisfied: absl-py>=1.0.0 in /home/kuba/.local/lib/python3.10/site-packages (from tensorflow) (1.4.0)\n",
      "Requirement already satisfied: google-pasta>=0.1.1 in /home/kuba/.local/lib/python3.10/site-packages (from tensorflow) (0.2.0)\n",
      "Requirement already satisfied: setuptools in /usr/lib/python3/dist-packages (from tensorflow) (59.6.0)\n",
      "Requirement already satisfied: tensorboard<2.13,>=2.12 in /home/kuba/.local/lib/python3.10/site-packages (from tensorflow) (2.12.2)\n",
      "Requirement already satisfied: keras<2.13,>=2.12.0 in /home/kuba/.local/lib/python3.10/site-packages (from tensorflow) (2.12.0)\n",
      "Requirement already satisfied: wheel<1.0,>=0.23.0 in /usr/lib/python3/dist-packages (from astunparse>=1.6.0->tensorflow) (0.37.1)\n",
      "Requirement already satisfied: ml-dtypes>=0.0.3 in /home/kuba/.local/lib/python3.10/site-packages (from jax>=0.3.15->tensorflow) (0.1.0)\n",
      "Requirement already satisfied: scipy>=1.7 in /home/kuba/.local/lib/python3.10/site-packages (from jax>=0.3.15->tensorflow) (1.10.1)\n",
      "Requirement already satisfied: werkzeug>=1.0.1 in /home/kuba/.local/lib/python3.10/site-packages (from tensorboard<2.13,>=2.12->tensorflow) (2.3.2)\n",
      "Requirement already satisfied: markdown>=2.6.8 in /home/kuba/.local/lib/python3.10/site-packages (from tensorboard<2.13,>=2.12->tensorflow) (3.4.3)\n",
      "Requirement already satisfied: tensorboard-plugin-wit>=1.6.0 in /home/kuba/.local/lib/python3.10/site-packages (from tensorboard<2.13,>=2.12->tensorflow) (1.8.1)\n",
      "Requirement already satisfied: tensorboard-data-server<0.8.0,>=0.7.0 in /home/kuba/.local/lib/python3.10/site-packages (from tensorboard<2.13,>=2.12->tensorflow) (0.7.0)\n",
      "Requirement already satisfied: google-auth<3,>=1.6.3 in /home/kuba/.local/lib/python3.10/site-packages (from tensorboard<2.13,>=2.12->tensorflow) (2.17.3)\n",
      "Requirement already satisfied: requests<3,>=2.21.0 in /home/kuba/.local/lib/python3.10/site-packages (from tensorboard<2.13,>=2.12->tensorflow) (2.29.0)\n",
      "Requirement already satisfied: google-auth-oauthlib<1.1,>=0.5 in /home/kuba/.local/lib/python3.10/site-packages (from tensorboard<2.13,>=2.12->tensorflow) (1.0.0)\n",
      "Requirement already satisfied: cachetools<6.0,>=2.0.0 in /home/kuba/.local/lib/python3.10/site-packages (from google-auth<3,>=1.6.3->tensorboard<2.13,>=2.12->tensorflow) (5.3.0)\n",
      "Requirement already satisfied: pyasn1-modules>=0.2.1 in /home/kuba/.local/lib/python3.10/site-packages (from google-auth<3,>=1.6.3->tensorboard<2.13,>=2.12->tensorflow) (0.3.0)\n",
      "Requirement already satisfied: rsa<5,>=3.1.4 in /home/kuba/.local/lib/python3.10/site-packages (from google-auth<3,>=1.6.3->tensorboard<2.13,>=2.12->tensorflow) (4.9)\n",
      "Requirement already satisfied: requests-oauthlib>=0.7.0 in /home/kuba/.local/lib/python3.10/site-packages (from google-auth-oauthlib<1.1,>=0.5->tensorboard<2.13,>=2.12->tensorflow) (1.3.1)\n",
      "Requirement already satisfied: idna<4,>=2.5 in /home/kuba/.local/lib/python3.10/site-packages (from requests<3,>=2.21.0->tensorboard<2.13,>=2.12->tensorflow) (3.4)\n",
      "Requirement already satisfied: certifi>=2017.4.17 in /home/kuba/.local/lib/python3.10/site-packages (from requests<3,>=2.21.0->tensorboard<2.13,>=2.12->tensorflow) (2022.12.7)\n",
      "Requirement already satisfied: urllib3<1.27,>=1.21.1 in /home/kuba/.local/lib/python3.10/site-packages (from requests<3,>=2.21.0->tensorboard<2.13,>=2.12->tensorflow) (1.26.15)\n",
      "Requirement already satisfied: charset-normalizer<4,>=2 in /home/kuba/.local/lib/python3.10/site-packages (from requests<3,>=2.21.0->tensorboard<2.13,>=2.12->tensorflow) (3.1.0)\n",
      "Requirement already satisfied: MarkupSafe>=2.1.1 in /home/kuba/.local/lib/python3.10/site-packages (from werkzeug>=1.0.1->tensorboard<2.13,>=2.12->tensorflow) (2.1.2)\n",
      "Requirement already satisfied: pyasn1<0.6.0,>=0.4.6 in /home/kuba/.local/lib/python3.10/site-packages (from pyasn1-modules>=0.2.1->google-auth<3,>=1.6.3->tensorboard<2.13,>=2.12->tensorflow) (0.5.0)\n",
      "Requirement already satisfied: oauthlib>=3.0.0 in /usr/lib/python3/dist-packages (from requests-oauthlib>=0.7.0->google-auth-oauthlib<1.1,>=0.5->tensorboard<2.13,>=2.12->tensorflow) (3.2.0)\n",
      "Defaulting to user installation because normal site-packages is not writeable\n",
      "Requirement already satisfied: gym in /home/kuba/.local/lib/python3.10/site-packages (0.21.0)\n",
      "Requirement already satisfied: numpy>=1.18.0 in /home/kuba/.local/lib/python3.10/site-packages (from gym) (1.23.5)\n",
      "Requirement already satisfied: cloudpickle>=1.2.0 in /home/kuba/.local/lib/python3.10/site-packages (from gym) (2.2.1)\n",
      "Defaulting to user installation because normal site-packages is not writeable\n",
      "Requirement already satisfied: keras in /home/kuba/.local/lib/python3.10/site-packages (2.12.0)\n",
      "Defaulting to user installation because normal site-packages is not writeable\n",
      "Requirement already satisfied: keras-rl2 in /home/kuba/.local/lib/python3.10/site-packages (1.0.5)\n",
      "Requirement already satisfied: tensorflow in /home/kuba/.local/lib/python3.10/site-packages (from keras-rl2) (2.12.0)\n",
      "Requirement already satisfied: tensorflow-io-gcs-filesystem>=0.23.1 in /home/kuba/.local/lib/python3.10/site-packages (from tensorflow->keras-rl2) (0.32.0)\n",
      "Requirement already satisfied: jax>=0.3.15 in /home/kuba/.local/lib/python3.10/site-packages (from tensorflow->keras-rl2) (0.4.8)\n",
      "Requirement already satisfied: keras<2.13,>=2.12.0 in /home/kuba/.local/lib/python3.10/site-packages (from tensorflow->keras-rl2) (2.12.0)\n",
      "Requirement already satisfied: tensorboard<2.13,>=2.12 in /home/kuba/.local/lib/python3.10/site-packages (from tensorflow->keras-rl2) (2.12.2)\n",
      "Requirement already satisfied: google-pasta>=0.1.1 in /home/kuba/.local/lib/python3.10/site-packages (from tensorflow->keras-rl2) (0.2.0)\n",
      "Requirement already satisfied: setuptools in /usr/lib/python3/dist-packages (from tensorflow->keras-rl2) (59.6.0)\n",
      "Requirement already satisfied: typing-extensions>=3.6.6 in /home/kuba/.local/lib/python3.10/site-packages (from tensorflow->keras-rl2) (4.5.0)\n",
      "Requirement already satisfied: protobuf!=4.21.0,!=4.21.1,!=4.21.2,!=4.21.3,!=4.21.4,!=4.21.5,<5.0.0dev,>=3.20.3 in /home/kuba/.local/lib/python3.10/site-packages (from tensorflow->keras-rl2) (4.22.3)\n",
      "Requirement already satisfied: six>=1.12.0 in /usr/lib/python3/dist-packages (from tensorflow->keras-rl2) (1.16.0)\n",
      "Requirement already satisfied: wrapt<1.15,>=1.11.0 in /home/kuba/.local/lib/python3.10/site-packages (from tensorflow->keras-rl2) (1.14.1)\n",
      "Requirement already satisfied: tensorflow-estimator<2.13,>=2.12.0 in /home/kuba/.local/lib/python3.10/site-packages (from tensorflow->keras-rl2) (2.12.0)\n",
      "Requirement already satisfied: termcolor>=1.1.0 in /home/kuba/.local/lib/python3.10/site-packages (from tensorflow->keras-rl2) (2.3.0)\n",
      "Requirement already satisfied: numpy<1.24,>=1.22 in /home/kuba/.local/lib/python3.10/site-packages (from tensorflow->keras-rl2) (1.23.5)\n",
      "Requirement already satisfied: gast<=0.4.0,>=0.2.1 in /home/kuba/.local/lib/python3.10/site-packages (from tensorflow->keras-rl2) (0.4.0)\n",
      "Requirement already satisfied: packaging in /home/kuba/.local/lib/python3.10/site-packages (from tensorflow->keras-rl2) (23.1)\n",
      "Requirement already satisfied: absl-py>=1.0.0 in /home/kuba/.local/lib/python3.10/site-packages (from tensorflow->keras-rl2) (1.4.0)\n",
      "Requirement already satisfied: libclang>=13.0.0 in /home/kuba/.local/lib/python3.10/site-packages (from tensorflow->keras-rl2) (16.0.0)\n",
      "Requirement already satisfied: astunparse>=1.6.0 in /home/kuba/.local/lib/python3.10/site-packages (from tensorflow->keras-rl2) (1.6.3)\n",
      "Requirement already satisfied: h5py>=2.9.0 in /home/kuba/.local/lib/python3.10/site-packages (from tensorflow->keras-rl2) (3.8.0)\n",
      "Requirement already satisfied: grpcio<2.0,>=1.24.3 in /home/kuba/.local/lib/python3.10/site-packages (from tensorflow->keras-rl2) (1.54.0)\n",
      "Requirement already satisfied: opt-einsum>=2.3.2 in /home/kuba/.local/lib/python3.10/site-packages (from tensorflow->keras-rl2) (3.3.0)\n",
      "Requirement already satisfied: flatbuffers>=2.0 in /home/kuba/.local/lib/python3.10/site-packages (from tensorflow->keras-rl2) (23.3.3)\n",
      "Requirement already satisfied: wheel<1.0,>=0.23.0 in /usr/lib/python3/dist-packages (from astunparse>=1.6.0->tensorflow->keras-rl2) (0.37.1)\n",
      "Requirement already satisfied: scipy>=1.7 in /home/kuba/.local/lib/python3.10/site-packages (from jax>=0.3.15->tensorflow->keras-rl2) (1.10.1)\n",
      "Requirement already satisfied: ml-dtypes>=0.0.3 in /home/kuba/.local/lib/python3.10/site-packages (from jax>=0.3.15->tensorflow->keras-rl2) (0.1.0)\n",
      "Requirement already satisfied: google-auth<3,>=1.6.3 in /home/kuba/.local/lib/python3.10/site-packages (from tensorboard<2.13,>=2.12->tensorflow->keras-rl2) (2.17.3)\n",
      "Requirement already satisfied: requests<3,>=2.21.0 in /home/kuba/.local/lib/python3.10/site-packages (from tensorboard<2.13,>=2.12->tensorflow->keras-rl2) (2.29.0)\n",
      "Requirement already satisfied: tensorboard-plugin-wit>=1.6.0 in /home/kuba/.local/lib/python3.10/site-packages (from tensorboard<2.13,>=2.12->tensorflow->keras-rl2) (1.8.1)\n",
      "Requirement already satisfied: markdown>=2.6.8 in /home/kuba/.local/lib/python3.10/site-packages (from tensorboard<2.13,>=2.12->tensorflow->keras-rl2) (3.4.3)\n",
      "Requirement already satisfied: werkzeug>=1.0.1 in /home/kuba/.local/lib/python3.10/site-packages (from tensorboard<2.13,>=2.12->tensorflow->keras-rl2) (2.3.2)\n",
      "Requirement already satisfied: google-auth-oauthlib<1.1,>=0.5 in /home/kuba/.local/lib/python3.10/site-packages (from tensorboard<2.13,>=2.12->tensorflow->keras-rl2) (1.0.0)\n",
      "Requirement already satisfied: tensorboard-data-server<0.8.0,>=0.7.0 in /home/kuba/.local/lib/python3.10/site-packages (from tensorboard<2.13,>=2.12->tensorflow->keras-rl2) (0.7.0)\n",
      "Requirement already satisfied: cachetools<6.0,>=2.0.0 in /home/kuba/.local/lib/python3.10/site-packages (from google-auth<3,>=1.6.3->tensorboard<2.13,>=2.12->tensorflow->keras-rl2) (5.3.0)\n",
      "Requirement already satisfied: rsa<5,>=3.1.4 in /home/kuba/.local/lib/python3.10/site-packages (from google-auth<3,>=1.6.3->tensorboard<2.13,>=2.12->tensorflow->keras-rl2) (4.9)\n",
      "Requirement already satisfied: pyasn1-modules>=0.2.1 in /home/kuba/.local/lib/python3.10/site-packages (from google-auth<3,>=1.6.3->tensorboard<2.13,>=2.12->tensorflow->keras-rl2) (0.3.0)\n",
      "Requirement already satisfied: requests-oauthlib>=0.7.0 in /home/kuba/.local/lib/python3.10/site-packages (from google-auth-oauthlib<1.1,>=0.5->tensorboard<2.13,>=2.12->tensorflow->keras-rl2) (1.3.1)\n",
      "Requirement already satisfied: charset-normalizer<4,>=2 in /home/kuba/.local/lib/python3.10/site-packages (from requests<3,>=2.21.0->tensorboard<2.13,>=2.12->tensorflow->keras-rl2) (3.1.0)\n",
      "Requirement already satisfied: certifi>=2017.4.17 in /home/kuba/.local/lib/python3.10/site-packages (from requests<3,>=2.21.0->tensorboard<2.13,>=2.12->tensorflow->keras-rl2) (2022.12.7)\n",
      "Requirement already satisfied: urllib3<1.27,>=1.21.1 in /home/kuba/.local/lib/python3.10/site-packages (from requests<3,>=2.21.0->tensorboard<2.13,>=2.12->tensorflow->keras-rl2) (1.26.15)\n",
      "Requirement already satisfied: idna<4,>=2.5 in /home/kuba/.local/lib/python3.10/site-packages (from requests<3,>=2.21.0->tensorboard<2.13,>=2.12->tensorflow->keras-rl2) (3.4)\n",
      "Requirement already satisfied: MarkupSafe>=2.1.1 in /home/kuba/.local/lib/python3.10/site-packages (from werkzeug>=1.0.1->tensorboard<2.13,>=2.12->tensorflow->keras-rl2) (2.1.2)\n",
      "Requirement already satisfied: pyasn1<0.6.0,>=0.4.6 in /home/kuba/.local/lib/python3.10/site-packages (from pyasn1-modules>=0.2.1->google-auth<3,>=1.6.3->tensorboard<2.13,>=2.12->tensorflow->keras-rl2) (0.5.0)\n",
      "Requirement already satisfied: oauthlib>=3.0.0 in /usr/lib/python3/dist-packages (from requests-oauthlib>=0.7.0->google-auth-oauthlib<1.1,>=0.5->tensorboard<2.13,>=2.12->tensorflow->keras-rl2) (3.2.0)\n"
     ]
    }
   ],
   "source": [
    "!pip3 install tensorflow\n",
    "!pip3 install gym\n",
    "!pip3 install keras\n",
    "!pip3 install keras-rl2"
   ]
  },
  {
   "cell_type": "code",
   "execution_count": 4,
   "metadata": {},
   "outputs": [],
   "source": [
    "import gym\n",
    "import random"
   ]
  },
  {
   "cell_type": "code",
   "execution_count": 5,
   "metadata": {},
   "outputs": [],
   "source": [
    "env = gym.make(\"CartPole-v0\")\n",
    "states = env.observation_space.shape[0] # get number of observation space variables\n",
    "actions = env.action_space.n # get number of action space variables"
   ]
  },
  {
   "cell_type": "code",
   "execution_count": 6,
   "metadata": {},
   "outputs": [
    {
     "data": {
      "text/plain": [
       "2"
      ]
     },
     "execution_count": 6,
     "metadata": {},
     "output_type": "execute_result"
    }
   ],
   "source": [
    "actions"
   ]
  },
  {
   "cell_type": "code",
   "execution_count": 7,
   "metadata": {},
   "outputs": [
    {
     "name": "stdout",
     "output_type": "stream",
     "text": [
      "Episode 1 Score 36.0\n",
      "Episode 2 Score 24.0\n",
      "Episode 3 Score 9.0\n",
      "Episode 4 Score 18.0\n",
      "Episode 5 Score 34.0\n",
      "Episode 6 Score 12.0\n",
      "Episode 7 Score 10.0\n",
      "Episode 8 Score 31.0\n",
      "Episode 9 Score 21.0\n",
      "Episode 10 Score 21.0\n"
     ]
    }
   ],
   "source": [
    "episodes = 10\n",
    "\n",
    "for episode in range(1, episodes + 1):\n",
    "    state = env.reset()\n",
    "    done = False\n",
    "    score = 0\n",
    "\n",
    "    while not done:\n",
    "        env.render()\n",
    "        action = env.action_space.sample()\n",
    "        n_state, reward, done, info = env.step(action)\n",
    "        score += reward\n",
    "    print('Episode {} Score {}'.format(episode, score))\n",
    "\n",
    "env.close()"
   ]
  },
  {
   "attachments": {},
   "cell_type": "markdown",
   "metadata": {},
   "source": [
    "Create a Deeo Learning Model with Keras"
   ]
  },
  {
   "cell_type": "code",
   "execution_count": 16,
   "metadata": {},
   "outputs": [],
   "source": [
    "import numpy as np\n",
    "from tensorflow.keras.models import Sequential\n",
    "from tensorflow.keras.layers import Dense, Flatten\n",
    "from tensorflow.keras.optimizers.legacy import Adam"
   ]
  },
  {
   "cell_type": "code",
   "execution_count": 9,
   "metadata": {},
   "outputs": [],
   "source": [
    "\"\"\"\n",
    "states -> numbers of variables given as a output (input)\n",
    "actions -> numebr of actions that neural network can do (output)\n",
    "\"\"\"\n",
    "def build_model(states, actions):\n",
    "    model = Sequential()\n",
    "    model.add(Flatten(input_shape=(1, states)))\n",
    "    model.add(Dense(24, activation='relu'))\n",
    "    model.add(Dense(24, activation='relu'))\n",
    "    model.add(Dense(actions, activation='linear'))\n",
    "    return model\n"
   ]
  },
  {
   "cell_type": "code",
   "execution_count": 10,
   "metadata": {},
   "outputs": [],
   "source": [
    "model = build_model(states, actions)"
   ]
  },
  {
   "cell_type": "code",
   "execution_count": 11,
   "metadata": {},
   "outputs": [
    {
     "name": "stdout",
     "output_type": "stream",
     "text": [
      "Model: \"sequential\"\n",
      "_________________________________________________________________\n",
      " Layer (type)                Output Shape              Param #   \n",
      "=================================================================\n",
      " flatten (Flatten)           (None, 4)                 0         \n",
      "                                                                 \n",
      " dense (Dense)               (None, 24)                120       \n",
      "                                                                 \n",
      " dense_1 (Dense)             (None, 24)                600       \n",
      "                                                                 \n",
      " dense_2 (Dense)             (None, 2)                 50        \n",
      "                                                                 \n",
      "=================================================================\n",
      "Total params: 770\n",
      "Trainable params: 770\n",
      "Non-trainable params: 0\n",
      "_________________________________________________________________\n"
     ]
    }
   ],
   "source": [
    "model.summary()"
   ]
  },
  {
   "attachments": {},
   "cell_type": "markdown",
   "metadata": {},
   "source": [
    "Build agent with Keras-RL"
   ]
  },
  {
   "cell_type": "code",
   "execution_count": 12,
   "metadata": {},
   "outputs": [],
   "source": [
    "from rl.agents import DQNAgent\n",
    "from rl.policy import BoltzmannQPolicy  # policy based rf\n",
    "from rl.memory import SequentialMemory"
   ]
  },
  {
   "cell_type": "code",
   "execution_count": 13,
   "metadata": {},
   "outputs": [],
   "source": [
    "def build_agent(model, actions):\n",
    "    policy = BoltzmannQPolicy()\n",
    "    memory = SequentialMemory(limit=5000, window_length = 1)\n",
    "    dqn = DQNAgent(model=model, memory=memory, policy=policy, nb_actions=actions, nb_steps_warmup=10, target_model_update=1e-2)\n",
    "\n",
    "    return dqn"
   ]
  },
  {
   "cell_type": "code",
   "execution_count": 14,
   "metadata": {},
   "outputs": [],
   "source": [
    "model = build_model(states, actions)"
   ]
  },
  {
   "cell_type": "code",
   "execution_count": 17,
   "metadata": {},
   "outputs": [
    {
     "name": "stderr",
     "output_type": "stream",
     "text": [
      "2023-04-30 22:06:37.557132: W tensorflow/c/c_api.cc:300] Operation '{name:'dense_5_2/kernel/Assign' id:412 op device:{requested: '', assigned: ''} def:{{{node dense_5_2/kernel/Assign}} = AssignVariableOp[_has_manual_control_dependencies=true, dtype=DT_FLOAT, validate_shape=false](dense_5_2/kernel, dense_5_2/kernel/Initializer/stateless_random_uniform)}}' was changed by setting attribute after it was run by a session. This mutation will have no effect, and will trigger an error in the future. Either don't modify nodes after running them or create a new session.\n"
     ]
    },
    {
     "name": "stdout",
     "output_type": "stream",
     "text": [
      "Training for 5000 steps ...\n",
      "Interval 1 (0 steps performed)\n",
      "    1/10000 [..............................] - ETA: 8:09 - reward: 1.0000"
     ]
    },
    {
     "name": "stderr",
     "output_type": "stream",
     "text": [
      "/home/kuba/.local/lib/python3.10/site-packages/keras/engine/training_v1.py:2359: UserWarning: `Model.state_updates` will be removed in a future version. This property should not be used in TensorFlow 2.0, as `updates` are applied automatically.\n",
      "  updates=self.state_updates,\n",
      "2023-04-30 22:06:37.875126: W tensorflow/c/c_api.cc:300] Operation '{name:'dense_5/BiasAdd' id:149 op device:{requested: '', assigned: ''} def:{{{node dense_5/BiasAdd}} = BiasAdd[T=DT_FLOAT, _has_manual_control_dependencies=true, data_format=\"NHWC\"](dense_5/MatMul, dense_5/BiasAdd/ReadVariableOp)}}' was changed by setting attribute after it was run by a session. This mutation will have no effect, and will trigger an error in the future. Either don't modify nodes after running them or create a new session.\n",
      "2023-04-30 22:06:37.892492: W tensorflow/c/c_api.cc:300] Operation '{name:'total_3/Assign' id:575 op device:{requested: '', assigned: ''} def:{{{node total_3/Assign}} = AssignVariableOp[_has_manual_control_dependencies=true, dtype=DT_FLOAT, validate_shape=false](total_3, total_3/Initializer/zeros)}}' was changed by setting attribute after it was run by a session. This mutation will have no effect, and will trigger an error in the future. Either don't modify nodes after running them or create a new session.\n",
      "/home/kuba/.local/lib/python3.10/site-packages/rl/memory.py:37: UserWarning: Not enough entries to sample without replacement. Consider increasing your warm-up phase to avoid oversampling!\n",
      "  warnings.warn('Not enough entries to sample without replacement. Consider increasing your warm-up phase to avoid oversampling!')\n",
      "2023-04-30 22:06:37.928235: W tensorflow/c/c_api.cc:300] Operation '{name:'dense_5_2/BiasAdd' id:422 op device:{requested: '', assigned: ''} def:{{{node dense_5_2/BiasAdd}} = BiasAdd[T=DT_FLOAT, _has_manual_control_dependencies=true, data_format=\"NHWC\"](dense_5_2/MatMul, dense_5_2/BiasAdd/ReadVariableOp)}}' was changed by setting attribute after it was run by a session. This mutation will have no effect, and will trigger an error in the future. Either don't modify nodes after running them or create a new session.\n"
     ]
    },
    {
     "name": "stdout",
     "output_type": "stream",
     "text": [
      "   12/10000 [..............................] - ETA: 5:07 - reward: 1.0000"
     ]
    },
    {
     "name": "stderr",
     "output_type": "stream",
     "text": [
      "2023-04-30 22:06:38.072754: W tensorflow/c/c_api.cc:300] Operation '{name:'loss_5/AddN' id:676 op device:{requested: '', assigned: ''} def:{{{node loss_5/AddN}} = AddN[N=2, T=DT_FLOAT, _has_manual_control_dependencies=true](loss_5/mul, loss_5/mul_1)}}' was changed by setting attribute after it was run by a session. This mutation will have no effect, and will trigger an error in the future. Either don't modify nodes after running them or create a new session.\n",
      "2023-04-30 22:06:38.097537: W tensorflow/c/c_api.cc:300] Operation '{name:'training/Adam/dense_5/kernel/v/Assign' id:888 op device:{requested: '', assigned: ''} def:{{{node training/Adam/dense_5/kernel/v/Assign}} = AssignVariableOp[_has_manual_control_dependencies=true, dtype=DT_FLOAT, validate_shape=false](training/Adam/dense_5/kernel/v, training/Adam/dense_5/kernel/v/Initializer/zeros)}}' was changed by setting attribute after it was run by a session. This mutation will have no effect, and will trigger an error in the future. Either don't modify nodes after running them or create a new session.\n"
     ]
    },
    {
     "name": "stdout",
     "output_type": "stream",
     "text": [
      " 4998/10000 [=============>................] - ETA: 37s - reward: 1.0000done, took 37.316 seconds\n"
     ]
    },
    {
     "data": {
      "text/plain": [
       "<keras.callbacks.History at 0x7f428453f4c0>"
      ]
     },
     "execution_count": 17,
     "metadata": {},
     "output_type": "execute_result"
    }
   ],
   "source": [
    "dqn = build_agent(model, actions)\n",
    "dqn.compile(Adam(learning_rate=1e-3), metrics=['mae'])\n",
    "dqn.fit(env, nb_steps=5000, visualize=False, verbose=1)"
   ]
  },
  {
   "cell_type": "code",
   "execution_count": 20,
   "metadata": {},
   "outputs": [
    {
     "name": "stdout",
     "output_type": "stream",
     "text": [
      "Testing for 100 episodes ...\n",
      "Episode 1: reward: 155.000, steps: 155\n",
      "Episode 2: reward: 200.000, steps: 200\n",
      "Episode 3: reward: 200.000, steps: 200\n",
      "Episode 4: reward: 173.000, steps: 173\n",
      "Episode 5: reward: 155.000, steps: 155\n",
      "Episode 6: reward: 191.000, steps: 191\n",
      "Episode 7: reward: 170.000, steps: 170\n",
      "Episode 8: reward: 161.000, steps: 161\n",
      "Episode 9: reward: 167.000, steps: 167\n",
      "Episode 10: reward: 163.000, steps: 163\n",
      "Episode 11: reward: 141.000, steps: 141\n",
      "Episode 12: reward: 199.000, steps: 199\n",
      "Episode 13: reward: 200.000, steps: 200\n",
      "Episode 14: reward: 173.000, steps: 173\n",
      "Episode 15: reward: 189.000, steps: 189\n",
      "Episode 16: reward: 197.000, steps: 197\n",
      "Episode 17: reward: 163.000, steps: 163\n",
      "Episode 18: reward: 151.000, steps: 151\n",
      "Episode 19: reward: 164.000, steps: 164\n",
      "Episode 20: reward: 179.000, steps: 179\n",
      "Episode 21: reward: 189.000, steps: 189\n",
      "Episode 22: reward: 165.000, steps: 165\n",
      "Episode 23: reward: 185.000, steps: 185\n",
      "Episode 24: reward: 158.000, steps: 158\n",
      "Episode 25: reward: 200.000, steps: 200\n",
      "Episode 26: reward: 184.000, steps: 184\n",
      "Episode 27: reward: 185.000, steps: 185\n",
      "Episode 28: reward: 151.000, steps: 151\n",
      "Episode 29: reward: 165.000, steps: 165\n",
      "Episode 30: reward: 171.000, steps: 171\n",
      "Episode 31: reward: 187.000, steps: 187\n",
      "Episode 32: reward: 159.000, steps: 159\n",
      "Episode 33: reward: 200.000, steps: 200\n",
      "Episode 34: reward: 200.000, steps: 200\n",
      "Episode 35: reward: 165.000, steps: 165\n",
      "Episode 36: reward: 156.000, steps: 156\n",
      "Episode 37: reward: 200.000, steps: 200\n",
      "Episode 38: reward: 193.000, steps: 193\n",
      "Episode 39: reward: 177.000, steps: 177\n",
      "Episode 40: reward: 157.000, steps: 157\n",
      "Episode 41: reward: 153.000, steps: 153\n",
      "Episode 42: reward: 175.000, steps: 175\n",
      "Episode 43: reward: 179.000, steps: 179\n",
      "Episode 44: reward: 147.000, steps: 147\n",
      "Episode 45: reward: 200.000, steps: 200\n",
      "Episode 46: reward: 173.000, steps: 173\n",
      "Episode 47: reward: 164.000, steps: 164\n",
      "Episode 48: reward: 174.000, steps: 174\n",
      "Episode 49: reward: 153.000, steps: 153\n",
      "Episode 50: reward: 190.000, steps: 190\n",
      "Episode 51: reward: 171.000, steps: 171\n",
      "Episode 52: reward: 153.000, steps: 153\n",
      "Episode 53: reward: 179.000, steps: 179\n",
      "Episode 54: reward: 188.000, steps: 188\n",
      "Episode 55: reward: 185.000, steps: 185\n",
      "Episode 56: reward: 200.000, steps: 200\n",
      "Episode 57: reward: 200.000, steps: 200\n",
      "Episode 58: reward: 193.000, steps: 193\n",
      "Episode 59: reward: 200.000, steps: 200\n",
      "Episode 60: reward: 200.000, steps: 200\n",
      "Episode 61: reward: 200.000, steps: 200\n",
      "Episode 62: reward: 147.000, steps: 147\n",
      "Episode 63: reward: 177.000, steps: 177\n",
      "Episode 64: reward: 172.000, steps: 172\n",
      "Episode 65: reward: 152.000, steps: 152\n",
      "Episode 66: reward: 165.000, steps: 165\n",
      "Episode 67: reward: 165.000, steps: 165\n",
      "Episode 68: reward: 197.000, steps: 197\n",
      "Episode 69: reward: 191.000, steps: 191\n",
      "Episode 70: reward: 167.000, steps: 167\n",
      "Episode 71: reward: 200.000, steps: 200\n",
      "Episode 72: reward: 200.000, steps: 200\n",
      "Episode 73: reward: 161.000, steps: 161\n",
      "Episode 74: reward: 145.000, steps: 145\n",
      "Episode 75: reward: 143.000, steps: 143\n",
      "Episode 76: reward: 155.000, steps: 155\n",
      "Episode 77: reward: 147.000, steps: 147\n",
      "Episode 78: reward: 200.000, steps: 200\n",
      "Episode 79: reward: 200.000, steps: 200\n",
      "Episode 80: reward: 200.000, steps: 200\n",
      "Episode 81: reward: 165.000, steps: 165\n",
      "Episode 82: reward: 200.000, steps: 200\n",
      "Episode 83: reward: 177.000, steps: 177\n",
      "Episode 84: reward: 200.000, steps: 200\n",
      "Episode 85: reward: 157.000, steps: 157\n",
      "Episode 86: reward: 183.000, steps: 183\n",
      "Episode 87: reward: 166.000, steps: 166\n",
      "Episode 88: reward: 177.000, steps: 177\n",
      "Episode 89: reward: 173.000, steps: 173\n",
      "Episode 90: reward: 200.000, steps: 200\n",
      "Episode 91: reward: 171.000, steps: 171\n",
      "Episode 92: reward: 162.000, steps: 162\n",
      "Episode 93: reward: 200.000, steps: 200\n",
      "Episode 94: reward: 153.000, steps: 153\n",
      "Episode 95: reward: 181.000, steps: 181\n",
      "Episode 96: reward: 200.000, steps: 200\n",
      "Episode 97: reward: 164.000, steps: 164\n",
      "Episode 98: reward: 179.000, steps: 179\n",
      "Episode 99: reward: 187.000, steps: 187\n",
      "Episode 100: reward: 200.000, steps: 200\n",
      "176.94\n"
     ]
    }
   ],
   "source": [
    "scores = dqn.test(env, nb_episodes=100, visualize=False)\n",
    "print(np.mean(scores.history['episode_reward']))"
   ]
  },
  {
   "attachments": {},
   "cell_type": "markdown",
   "metadata": {},
   "source": [
    "Reload agent from memory"
   ]
  },
  {
   "cell_type": "code",
   "execution_count": null,
   "metadata": {},
   "outputs": [],
   "source": [
    "_ = dqn.test(env, nb_episodes=100, visualize=True)"
   ]
  }
 ],
 "metadata": {
  "kernelspec": {
   "display_name": "Python 3",
   "language": "python",
   "name": "python3"
  },
  "language_info": {
   "codemirror_mode": {
    "name": "ipython",
    "version": 3
   },
   "file_extension": ".py",
   "mimetype": "text/x-python",
   "name": "python",
   "nbconvert_exporter": "python",
   "pygments_lexer": "ipython3",
   "version": "3.10.6"
  },
  "orig_nbformat": 4
 },
 "nbformat": 4,
 "nbformat_minor": 2
}
